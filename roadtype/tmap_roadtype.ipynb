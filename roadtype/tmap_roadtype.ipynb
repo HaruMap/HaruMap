{
  "cells": [
    {
      "cell_type": "markdown",
      "metadata": {
        "id": "4Myq4ML4ZVOJ"
      },
      "source": [
        "## T MAP API 연결"
      ]
    },
    {
      "cell_type": "code",
      "execution_count": null,
      "metadata": {
        "id": "Vs5lfaXUYLxU"
      },
      "outputs": [],
      "source": [
        "import requests\n",
        "import json\n",
        "import re\n",
        "\n",
        "from json import loads\n",
        "from geopy.geocoders import Nominatim"
      ]
    },
    {
      "cell_type": "code",
      "execution_count": null,
      "metadata": {
        "colab": {
          "base_uri": "https://localhost:8080/"
        },
        "id": "9FVMLpnaa_IK",
        "outputId": "7e9623cb-3dce-4e01-e914-0f6f4a7e3c03"
      },
      "outputs": [
        {
          "name": "stdout",
          "output_type": "stream",
          "text": [
            "Looking in indexes: https://pypi.org/simple, https://us-python.pkg.dev/colab-wheels/public/simple/\n",
            "Requirement already satisfied: geopy in /usr/local/lib/python3.7/dist-packages (1.17.0)\n",
            "Requirement already satisfied: geographiclib<2,>=1.49 in /usr/local/lib/python3.7/dist-packages (from geopy) (1.52)\n"
          ]
        }
      ],
      "source": [
        "#already satisfied\n",
        "#!pip install geopy"
      ]
    },
    {
      "cell_type": "markdown",
      "metadata": {
        "id": "FgCIZIt95_Sb"
      },
      "source": [
        "- 위경도 반환 함수 선언"
      ]
    },
    {
      "cell_type": "code",
      "execution_count": null,
      "metadata": {
        "id": "XC4Ku76IbVfA"
      },
      "outputs": [],
      "source": [
        "geo_local = Nominatim(user_agent='South Korea') # 도로명 주소 위경도로 변환\n",
        "\n",
        "# 위경도 반환 함수\n",
        "def geocoding(address):\n",
        "    try:\n",
        "        geo = geo_local.geocode(address) # 입력된 주소에 대해\n",
        "        x_y = [geo.latitude, geo.longitude]\n",
        "        return x_y # 적절한 위경도 반환\n",
        "    except:\n",
        "        return [0, 0] # 주소가 올바르지 않으면 [0, 0] 반환"
      ]
    },
    {
      "cell_type": "code",
      "execution_count": null,
      "metadata": {
        "colab": {
          "base_uri": "https://localhost:8080/"
        },
        "id": "6uym4vJEbywR",
        "outputId": "9218362b-c29a-40f0-90bc-5b8d4db8c712"
      },
      "outputs": [
        {
          "name": "stdout",
          "output_type": "stream",
          "text": [
            "이화여자대학교 위/경도 : [37.5643371] [126.94689253689391]\n"
          ]
        }
      ],
      "source": [
        "# geocoding sample\n",
        "\n",
        "address = '이화여자대학교'\n",
        "\n",
        "latitude = []\n",
        "longitude =[]\n",
        "\n",
        "latitude.append(geocoding(address)[0])\n",
        "longitude.append(geocoding(address)[1])\n",
        "\n",
        "print('{0} 위/경도 :'.format(address), latitude, longitude)"
      ]
    },
    {
      "cell_type": "code",
      "execution_count": null,
      "metadata": {
        "colab": {
          "base_uri": "https://localhost:8080/"
        },
        "id": "T9WE4MqkqsQE",
        "outputId": "322a64f7-27a2-4665-da22-28722a850682"
      },
      "outputs": [
        {
          "name": "stdout",
          "output_type": "stream",
          "text": [
            "이화여자대학교신공학관 위/경도 : [0] [0]\n"
          ]
        }
      ],
      "source": [
        "# geocoding sample\n",
        "\n",
        "address = '이화여자대학교신공학관'\n",
        "\n",
        "latitude = []\n",
        "longitude =[]\n",
        "\n",
        "latitude.append(geocoding(address)[0])\n",
        "longitude.append(geocoding(address)[1])\n",
        "\n",
        "print('{0} 위/경도 :'.format(address), latitude, longitude)"
      ]
    },
    {
      "cell_type": "markdown",
      "metadata": {
        "id": "C3VbQrAt6H5C"
      },
      "source": [
        "## T MAP API 보행자 경로 안내 테스트"
      ]
    },
    {
      "cell_type": "code",
      "execution_count": null,
      "metadata": {
        "id": "zUnzYmUfZT36"
      },
      "outputs": [],
      "source": [
        "url = 'https://apis.openapi.sk.com/tmap/routes/pedestrian?version={version}&callback={callback}' # 보행자 경로 안내 url\n",
        "\n",
        "# 기본 변수 선언\n",
        "\n",
        "# 출발 지역\n",
        "\n",
        "# 도착 지역\n",
        "\n",
        "# 요청 : headers = 요청을 위한 필수값 입력\n",
        "headers = {\n",
        "    \"appkey\" : \"l7xxd6b1362765c04383a24b8b620b13ebe4\",\n",
        "    \"version\" : \"1\",\n",
        "    \"callback\" : \"\"\n",
        "}"
      ]
    },
    {
      "cell_type": "code",
      "execution_count": null,
      "metadata": {
        "id": "KfNJ0UXMA6Vk"
      },
      "outputs": [],
      "source": [
        "# 요청 : payload = 출발지, 경유지에 대한 정보 입력\n",
        "payload = {\n",
        "    \"startX\" : 126.9459597,\n",
        "    \"startY\" : 37.5570497,\n",
        "    \"angle\" : 359,\n",
        "    \"speed\" : 60,\n",
        "    \"endPoiId\" : \"334852\",\n",
        "    \"endX\" : 126.92432158129688,\n",
        "    \"endY\" : 37.55279861528311,\n",
        "    # passList : 126.92774822,37.55395475\n",
        "    \"reqCoordType\" : \"WGS84GEO\",\n",
        "    \"startName\" : \"%EC%B6%9C%EB%B0%9C\",\n",
        "    \"endName\" : \"%EB%B3%B8%EC%82%AC\",\n",
        "    \"searchOption\" : 4,\n",
        "    \"resCoordType\" : \"WGS84GEO\"\n",
        "}"
      ]
    },
    {
      "cell_type": "code",
      "execution_count": null,
      "metadata": {
        "id": "06HyxFyIq6uO"
      },
      "outputs": [],
      "source": [
        "# 요청 : payload = 출발지, 경유지에 대한 정보 입력\n",
        "payload = {\n",
        "    \"startX\" : 126.9459597, #이대역\n",
        "    \"startY\" : 37.5570497,\n",
        "    \"angle\" : 359,\n",
        "    \"speed\" : 60,\n",
        "    \"endPoiId\" : \"334852\",\n",
        "    \"endX\" : 126.94875184483455, #이화여자대학교\n",
        "    \"endY\" : 37.566816811699894,\n",
        "    # passList : 126.92774822,37.55395475\n",
        "    \"reqCoordType\" : \"WGS84GEO\",\n",
        "    \"startName\" : \"%EC%B6%9C%EB%B0%9C\",\n",
        "    \"endName\" : \"%EB%B3%B8%EC%82%AC\",\n",
        "    \"searchOption\" : 4,\n",
        "    \"resCoordType\" : \"WGS84GEO\"\n",
        "}\n",
        "\n",
        "#[37.5643371] [126.94689253689391]\n",
        "#[37.5570497] [126.9459597]\\\n",
        "\n",
        "#신공학관\n",
        "#  'x': '126.94875184483455',\n",
        "#  'y': '37.566816811699894"
      ]
    },
    {
      "cell_type": "code",
      "execution_count": null,
      "metadata": {
        "id": "jsKRJwbdc9c7"
      },
      "outputs": [],
      "source": [
        "# 호출 : request (format = .json)\n",
        "r = requests.post(url, json=payload, headers=headers)\n",
        "json_obj = json.loads(r.text)"
      ]
    },
    {
      "cell_type": "code",
      "execution_count": null,
      "metadata": {
        "colab": {
          "base_uri": "https://localhost:8080/"
        },
        "id": "QWgcMkk4JhJe",
        "outputId": "7c97dbb0-509a-447c-d63d-13ce544e82e9"
      },
      "outputs": [
        {
          "name": "stdout",
          "output_type": "stream",
          "text": [
            "1\n"
          ]
        }
      ],
      "source": [
        "dict={'a':1, 'b':2, 'c':[1,2,3]}\n",
        "ah=dict['c'][0]\n",
        "print(ah)"
      ]
    },
    {
      "cell_type": "code",
      "execution_count": null,
      "metadata": {
        "colab": {
          "base_uri": "https://localhost:8080/"
        },
        "id": "0ruZ-lUfwCfn",
        "outputId": "0f360150-eeca-4160-ca31-c49f2eb1592d"
      },
      "outputs": [
        {
          "data": {
            "text/plain": [
              "{'type': 'FeatureCollection',\n",
              " 'features': [{'type': 'Feature',\n",
              "   'geometry': {'type': 'Point',\n",
              "    'coordinates': [126.94596314364489, 37.55705797877588]},\n",
              "   'properties': {'totalDistance': 1942,\n",
              "    'totalTime': 1404,\n",
              "    'index': 0,\n",
              "    'pointIndex': 0,\n",
              "    'name': '',\n",
              "    'description': '4m 이동',\n",
              "    'direction': '',\n",
              "    'nearPoiName': '',\n",
              "    'nearPoiX': '0.0',\n",
              "    'nearPoiY': '0.0',\n",
              "    'intersectionName': '',\n",
              "    'facilityType': '14',\n",
              "    'facilityName': '',\n",
              "    'turnType': 200,\n",
              "    'pointType': 'SP'}},\n",
              "  {'type': 'Feature',\n",
              "   'geometry': {'type': 'LineString',\n",
              "    'coordinates': [[126.94596314364489, 37.55705797877588],\n",
              "     [126.94594647826169, 37.55706631084182],\n",
              "     [126.94594092258453, 37.5570885303808]]},\n",
              "   'properties': {'index': 1,\n",
              "    'lineIndex': 0,\n",
              "    'name': '',\n",
              "    'description': ', 4m',\n",
              "    'distance': 4,\n",
              "    'time': 4,\n",
              "    'roadType': 24,\n",
              "    'categoryRoadType': 0,\n",
              "    'facilityType': '14',\n",
              "    'facilityName': ''}},\n",
              "  {'type': 'Feature',\n",
              "   'geometry': {'type': 'Point',\n",
              "    'coordinates': [126.94594092258453, 37.5570885303808]},\n",
              "   'properties': {'index': 2,\n",
              "    'pointIndex': 1,\n",
              "    'name': '',\n",
              "    'description': '직진 후 217m 이동 ',\n",
              "    'direction': '',\n",
              "    'nearPoiName': '',\n",
              "    'nearPoiX': '0.0',\n",
              "    'nearPoiY': '0.0',\n",
              "    'intersectionName': '이대역3번출구',\n",
              "    'facilityType': '11',\n",
              "    'facilityName': '',\n",
              "    'turnType': 11,\n",
              "    'pointType': 'GP'}},\n",
              "  {'type': 'Feature',\n",
              "   'geometry': {'type': 'LineString',\n",
              "    'coordinates': [[126.94594092258453, 37.5570885303808],\n",
              "     [126.94593814411803, 37.55712185978877],\n",
              "     [126.94591869602988, 37.557313503822364],\n",
              "     [126.94592147245562, 37.55735238823943],\n",
              "     [126.94592424927383, 37.55737738538246],\n",
              "     [126.94592147072883, 37.557413492245225],\n",
              "     [126.9458742378184, 37.557943985267706],\n",
              "     [126.94586867978644, 37.55804952845084],\n",
              "     [126.9458103324599, 37.55873278128805],\n",
              "     [126.9458019989441, 37.558766110596444],\n",
              "     [126.94579366527132, 37.55880499481444],\n",
              "     [126.94578254873618, 37.559032745909256]]},\n",
              "   'properties': {'index': 3,\n",
              "    'lineIndex': 1,\n",
              "    'name': '',\n",
              "    'description': ', 217m',\n",
              "    'distance': 217,\n",
              "    'time': 154,\n",
              "    'roadType': 24,\n",
              "    'categoryRoadType': 1,\n",
              "    'facilityType': '11',\n",
              "    'facilityName': ''}},\n",
              "  {'type': 'Feature',\n",
              "   'geometry': {'type': 'Point',\n",
              "    'coordinates': [126.94578254873618, 37.559032745909256]},\n",
              "   'properties': {'index': 4,\n",
              "    'pointIndex': 2,\n",
              "    'name': '레드망고 이대점',\n",
              "    'description': '레드망고 이대점 에서 좌회전 후 248m 이동 ',\n",
              "    'direction': '',\n",
              "    'nearPoiName': '레드망고 이대점',\n",
              "    'nearPoiX': '0.0',\n",
              "    'nearPoiY': '0.0',\n",
              "    'intersectionName': '',\n",
              "    'facilityType': '11',\n",
              "    'facilityName': '',\n",
              "    'turnType': 12,\n",
              "    'pointType': 'GP'}},\n",
              "  {'type': 'Feature',\n",
              "   'geometry': {'type': 'LineString',\n",
              "    'coordinates': [[126.94578254873618, 37.559032745909256],\n",
              "     [126.94584087526162, 37.55908551859524],\n",
              "     [126.94586587235517, 37.559107738681405],\n",
              "     [126.94586031495102, 37.559191062225956],\n",
              "     [126.94586309098418, 37.559243833916945],\n",
              "     [126.94565477671672, 37.559241052730904],\n",
              "     [126.94557145105685, 37.55923827378362],\n",
              "     [126.94553534323688, 37.55923827313688],\n",
              "     [126.94530480885108, 37.5592327140981],\n",
              "     [126.94446044168325, 37.55922158915554],\n",
              "     [126.94370217809272, 37.55919935593645],\n",
              "     [126.9436105198591, 37.55919657684005],\n",
              "     [126.94359385471145, 37.55919657654158],\n",
              "     [126.94342164842118, 37.559188241093004],\n",
              "     [126.94337998437472, 37.559229902168816]]},\n",
              "   'properties': {'index': 5,\n",
              "    'lineIndex': 2,\n",
              "    'name': '',\n",
              "    'description': ', 248m',\n",
              "    'distance': 248,\n",
              "    'time': 178,\n",
              "    'roadType': 21,\n",
              "    'categoryRoadType': 1,\n",
              "    'facilityType': '11',\n",
              "    'facilityName': ''}},\n",
              "  {'type': 'Feature',\n",
              "   'geometry': {'type': 'Point',\n",
              "    'coordinates': [126.94337998437472, 37.559229902168816]},\n",
              "   'properties': {'index': 6,\n",
              "    'pointIndex': 3,\n",
              "    'name': '아자부 이대점',\n",
              "    'description': '아자부 이대점 에서 좌회전 후 243m 이동 ',\n",
              "    'direction': '',\n",
              "    'nearPoiName': '아자부 이대점',\n",
              "    'nearPoiX': '0.0',\n",
              "    'nearPoiY': '0.0',\n",
              "    'intersectionName': '',\n",
              "    'facilityType': '11',\n",
              "    'facilityName': '',\n",
              "    'turnType': 12,\n",
              "    'pointType': 'GP'}},\n",
              "  {'type': 'Feature',\n",
              "   'geometry': {'type': 'LineString',\n",
              "    'coordinates': [[126.94337998437472, 37.559229902168816],\n",
              "     [126.9429022502991, 37.559224338703224],\n",
              "     [126.9428328122624, 37.559221560004836],\n",
              "     [126.9426467180352, 37.55922433412684],\n",
              "     [126.94246340125419, 37.559229885753396],\n",
              "     [126.94220509193669, 37.55921321639857],\n",
              "     [126.94209954600163, 37.55921321450837],\n",
              "     [126.94168013978616, 37.55921320699741],\n",
              "     [126.94123573490755, 37.55924652849648],\n",
              "     [126.94063023501477, 37.55922985292451]]},\n",
              "   'properties': {'index': 7,\n",
              "    'lineIndex': 3,\n",
              "    'name': '',\n",
              "    'description': ', 243m',\n",
              "    'distance': 243,\n",
              "    'time': 173,\n",
              "    'roadType': 21,\n",
              "    'categoryRoadType': 1,\n",
              "    'facilityType': '11',\n",
              "    'facilityName': ''}},\n",
              "  {'type': 'Feature',\n",
              "   'geometry': {'type': 'Point',\n",
              "    'coordinates': [126.94063023501477, 37.55922985292451]},\n",
              "   'properties': {'index': 8,\n",
              "    'pointIndex': 4,\n",
              "    'name': '',\n",
              "    'description': '우회전 후 73m 이동 ',\n",
              "    'direction': '',\n",
              "    'nearPoiName': '',\n",
              "    'nearPoiX': '0.0',\n",
              "    'nearPoiY': '0.0',\n",
              "    'intersectionName': '명물거리',\n",
              "    'facilityType': '11',\n",
              "    'facilityName': '',\n",
              "    'turnType': 13,\n",
              "    'pointType': 'GP'}},\n",
              "  {'type': 'Feature',\n",
              "   'geometry': {'type': 'LineString',\n",
              "    'coordinates': [[126.94063023501477, 37.55922985292451],\n",
              "     [126.94059968224413, 37.559229852377385],\n",
              "     [126.94051357772574, 37.55927429011222],\n",
              "     [126.94051357694094, 37.559302064660166],\n",
              "     [126.94051357584222, 37.5593409490273],\n",
              "     [126.94050802016518, 37.559363168566186],\n",
              "     [126.94049411951433, 37.55982422581332]]},\n",
              "   'properties': {'index': 9,\n",
              "    'lineIndex': 4,\n",
              "    'name': '',\n",
              "    'description': ', 73m',\n",
              "    'distance': 73,\n",
              "    'time': 52,\n",
              "    'roadType': 21,\n",
              "    'categoryRoadType': 1,\n",
              "    'facilityType': '11',\n",
              "    'facilityName': ''}},\n",
              "  {'type': 'Feature',\n",
              "   'geometry': {'type': 'Point',\n",
              "    'coordinates': [126.94049411951433, 37.55982422581332]},\n",
              "   'properties': {'index': 10,\n",
              "    'pointIndex': 5,\n",
              "    'name': '',\n",
              "    'description': '우회전 후 신촌역로 을 따라 27m 이동 ',\n",
              "    'direction': '',\n",
              "    'nearPoiName': '',\n",
              "    'nearPoiX': '0.0',\n",
              "    'nearPoiY': '0.0',\n",
              "    'intersectionName': '',\n",
              "    'facilityType': '11',\n",
              "    'facilityName': '',\n",
              "    'turnType': 13,\n",
              "    'pointType': 'GP'}},\n",
              "  {'type': 'Feature',\n",
              "   'geometry': {'type': 'LineString',\n",
              "    'coordinates': [[126.94049411951433, 37.55982422581332],\n",
              "     [126.94049133987072, 37.559899217043],\n",
              "     [126.94054966694554, 37.55993254754504],\n",
              "     [126.94060521437675, 37.56004086927675]]},\n",
              "   'properties': {'index': 11,\n",
              "    'lineIndex': 5,\n",
              "    'name': '신촌역로',\n",
              "    'description': '신촌역로, 27m',\n",
              "    'distance': 27,\n",
              "    'time': 20,\n",
              "    'roadType': 21,\n",
              "    'categoryRoadType': 0,\n",
              "    'facilityType': '11',\n",
              "    'facilityName': ''}},\n",
              "  {'type': 'Feature',\n",
              "   'geometry': {'type': 'LineString',\n",
              "    'coordinates': [[126.94060521437675, 37.56004086927675],\n",
              "     [126.9408357409132, 37.56032417379398],\n",
              "     [126.94086351513891, 37.56036028120367],\n",
              "     [126.94104404795902, 37.560582480820145],\n",
              "     [126.94105515758652, 37.56059914574786],\n",
              "     [126.94106904434615, 37.56062969799926],\n",
              "     [126.94109403979142, 37.56071024463587],\n",
              "     [126.94116347460992, 37.56082689898061],\n",
              "     [126.94132456577792, 37.561012991336575],\n",
              "     [126.94169952382818, 37.561287966076016],\n",
              "     [126.94174674072596, 37.56132407383391],\n",
              "     [126.94254665014897, 37.56194901548778],\n",
              "     [126.94257164771335, 37.56195457084507],\n",
              "     [126.94261886523903, 37.56196845896469],\n",
              "     [126.94317158054508, 37.56239619690156],\n",
              "     [126.94321046416242, 37.56245730160333],\n",
              "     [126.94323546070628, 37.56249896387286],\n",
              "     [126.94355209160211, 37.56274338556536],\n",
              "     [126.94431589437991, 37.563326664751536],\n",
              "     [126.94446032228304, 37.56344609789434],\n",
              "     [126.94457697666736, 37.56350442653439],\n",
              "     [126.9446408583984, 37.56355164441001],\n",
              "     [126.94470474005092, 37.563601639740426],\n",
              "     [126.94502136898299, 37.5639154978028],\n",
              "     [126.94523245574885, 37.56409603614498],\n",
              "     [126.94530189190087, 37.56416547375839],\n",
              "     [126.94537132773881, 37.56424602119095],\n",
              "     [126.9458129394666, 37.56476541314619],\n",
              "     [126.94583793608868, 37.564804297960926]]},\n",
              "   'properties': {'index': 12,\n",
              "    'lineIndex': 6,\n",
              "    'name': '성산로',\n",
              "    'description': '성산로, 710m',\n",
              "    'distance': 710,\n",
              "    'time': 507,\n",
              "    'roadType': 21,\n",
              "    'categoryRoadType': 0,\n",
              "    'facilityType': '11',\n",
              "    'facilityName': ''}},\n",
              "  {'type': 'Feature',\n",
              "   'geometry': {'type': 'LineString',\n",
              "    'coordinates': [[126.94583793608868, 37.564804297960926],\n",
              "     [126.94619066726419, 37.565315355959555],\n",
              "     [126.94644341210815, 37.565665319789645],\n",
              "     [126.94689057574182, 37.56629581003532]]},\n",
              "   'properties': {'index': 13,\n",
              "    'lineIndex': 7,\n",
              "    'name': '보행자도로',\n",
              "    'description': '보행자도로, 190m',\n",
              "    'distance': 190,\n",
              "    'time': 135,\n",
              "    'roadType': 0,\n",
              "    'categoryRoadType': 0,\n",
              "    'facilityType': '11',\n",
              "    'facilityName': ''}},\n",
              "  {'type': 'Feature',\n",
              "   'geometry': {'type': 'LineString',\n",
              "    'coordinates': [[126.94689057574182, 37.56629581003532],\n",
              "     [126.94730996546355, 37.56687908305207],\n",
              "     [126.94733496239952, 37.566906858047666],\n",
              "     [126.94737662409037, 37.56694852061571]]},\n",
              "   'properties': {'index': 14,\n",
              "    'lineIndex': 8,\n",
              "    'name': '성산로',\n",
              "    'description': '성산로, 84m',\n",
              "    'distance': 84,\n",
              "    'time': 61,\n",
              "    'roadType': 21,\n",
              "    'categoryRoadType': 0,\n",
              "    'facilityType': '11',\n",
              "    'facilityName': ''}},\n",
              "  {'type': 'Feature',\n",
              "   'geometry': {'type': 'Point',\n",
              "    'coordinates': [126.94737662409037, 37.56694852061571]},\n",
              "   'properties': {'index': 15,\n",
              "    'pointIndex': 6,\n",
              "    'name': '대신교회',\n",
              "    'description': '대신교회 에서 우회전 후 22m 이동 ',\n",
              "    'direction': '',\n",
              "    'nearPoiName': '대신교회',\n",
              "    'nearPoiX': '0.0',\n",
              "    'nearPoiY': '0.0',\n",
              "    'intersectionName': '',\n",
              "    'facilityType': '11',\n",
              "    'facilityName': '',\n",
              "    'turnType': 13,\n",
              "    'pointType': 'GP'}},\n",
              "  {'type': 'Feature',\n",
              "   'geometry': {'type': 'LineString',\n",
              "    'coordinates': [[126.94737662409037, 37.56694852061571],\n",
              "     [126.94756272075095, 37.56685964539698],\n",
              "     [126.94759605112456, 37.56685686853935],\n",
              "     [126.94759882857062, 37.56685964604389]]},\n",
              "   'properties': {'index': 16,\n",
              "    'lineIndex': 9,\n",
              "    'name': '',\n",
              "    'description': ', 22m',\n",
              "    'distance': 22,\n",
              "    'time': 17,\n",
              "    'roadType': 21,\n",
              "    'categoryRoadType': 0,\n",
              "    'facilityType': '11',\n",
              "    'facilityName': ''}},\n",
              "  {'type': 'Feature',\n",
              "   'geometry': {'type': 'Point',\n",
              "    'coordinates': [126.94759882857062, 37.56685964604389]},\n",
              "   'properties': {'index': 17,\n",
              "    'pointIndex': 7,\n",
              "    'name': '대신교회',\n",
              "    'description': '대신교회 에서 우회전 후 38m 이동 ',\n",
              "    'direction': '',\n",
              "    'nearPoiName': '대신교회',\n",
              "    'nearPoiX': '0.0',\n",
              "    'nearPoiY': '0.0',\n",
              "    'intersectionName': '',\n",
              "    'facilityType': '11',\n",
              "    'facilityName': '',\n",
              "    'turnType': 13,\n",
              "    'pointType': 'GP'}},\n",
              "  {'type': 'Feature',\n",
              "   'geometry': {'type': 'LineString',\n",
              "    'coordinates': [[126.94759882857062, 37.56685964604389],\n",
              "     [126.94797102149926, 37.566695782880316]]},\n",
              "   'properties': {'index': 18,\n",
              "    'lineIndex': 10,\n",
              "    'name': '',\n",
              "    'description': ', 38m',\n",
              "    'distance': 38,\n",
              "    'time': 31,\n",
              "    'roadType': 22,\n",
              "    'categoryRoadType': 0,\n",
              "    'facilityType': '11',\n",
              "    'facilityName': ''}},\n",
              "  {'type': 'Feature',\n",
              "   'geometry': {'type': 'Point',\n",
              "    'coordinates': [126.94797102149926, 37.566695782880316]},\n",
              "   'properties': {'index': 19,\n",
              "    'pointIndex': 8,\n",
              "    'name': '',\n",
              "    'description': '좌회전 후 55m 이동 ',\n",
              "    'direction': '',\n",
              "    'nearPoiName': '',\n",
              "    'nearPoiX': '0.0',\n",
              "    'nearPoiY': '0.0',\n",
              "    'intersectionName': '',\n",
              "    'facilityType': '11',\n",
              "    'facilityName': '',\n",
              "    'turnType': 12,\n",
              "    'pointType': 'GP'}},\n",
              "  {'type': 'Feature',\n",
              "   'geometry': {'type': 'LineString',\n",
              "    'coordinates': [[126.94797102149926, 37.566695782880316],\n",
              "     [126.948048789125, 37.56680410500994],\n",
              "     [126.94811544712351, 37.56689576221185],\n",
              "     [126.94816821914833, 37.566929092614664],\n",
              "     [126.94820154897221, 37.56694575794048],\n",
              "     [126.94827098708699, 37.56694575918457],\n",
              "     [126.94840708775536, 37.56687632525362]]},\n",
              "   'properties': {'index': 20,\n",
              "    'lineIndex': 11,\n",
              "    'name': '',\n",
              "    'description': ', 55m',\n",
              "    'distance': 55,\n",
              "    'time': 46,\n",
              "    'roadType': 0,\n",
              "    'categoryRoadType': 0,\n",
              "    'facilityType': '11',\n",
              "    'facilityName': ''}},\n",
              "  {'type': 'Feature',\n",
              "   'geometry': {'type': 'Point',\n",
              "    'coordinates': [126.94840708775536, 37.56687632525362]},\n",
              "   'properties': {'index': 21,\n",
              "    'pointIndex': 9,\n",
              "    'name': '',\n",
              "    'description': '2시 방향 우회전 후 보행자도로 을 따라 31m 이동 ',\n",
              "    'direction': '',\n",
              "    'nearPoiName': '',\n",
              "    'nearPoiX': '0.0',\n",
              "    'nearPoiY': '0.0',\n",
              "    'intersectionName': '',\n",
              "    'facilityType': '11',\n",
              "    'facilityName': '',\n",
              "    'turnType': 18,\n",
              "    'pointType': 'GP'}},\n",
              "  {'type': 'Feature',\n",
              "   'geometry': {'type': 'LineString',\n",
              "    'coordinates': [[126.94840708775536, 37.56687632525362],\n",
              "     [126.94841819950298, 37.56681799890237],\n",
              "     [126.94864595997512, 37.56669579497287]]},\n",
              "   'properties': {'index': 22,\n",
              "    'lineIndex': 12,\n",
              "    'name': '보행자도로',\n",
              "    'description': '보행자도로, 31m',\n",
              "    'distance': 31,\n",
              "    'time': 26,\n",
              "    'roadType': 23,\n",
              "    'categoryRoadType': 0,\n",
              "    'facilityType': '11',\n",
              "    'facilityName': ''}},\n",
              "  {'type': 'Feature',\n",
              "   'geometry': {'type': 'Point',\n",
              "    'coordinates': [126.94864595997512, 37.56669579497287]},\n",
              "   'properties': {'index': 23,\n",
              "    'pointIndex': 10,\n",
              "    'name': '%EB%B3%B8%EC%82%AC',\n",
              "    'description': '도착',\n",
              "    'direction': '',\n",
              "    'nearPoiName': '%EB%B3%B8%EC%82%AC',\n",
              "    'nearPoiX': '0.0',\n",
              "    'nearPoiY': '0.0',\n",
              "    'intersectionName': '%EB%B3%B8%EC%82%AC',\n",
              "    'facilityType': '',\n",
              "    'facilityName': '',\n",
              "    'turnType': 201,\n",
              "    'pointType': 'EP'}}]}"
            ]
          },
          "execution_count": 55,
          "metadata": {},
          "output_type": "execute_result"
        }
      ],
      "source": [
        "json_obj"
      ]
    },
    {
      "cell_type": "code",
      "execution_count": null,
      "metadata": {
        "colab": {
          "base_uri": "https://localhost:8080/"
        },
        "id": "piJBnSOmFRaP",
        "outputId": "22f9357d-6c7c-499b-b73d-fff2b8770296"
      },
      "outputs": [
        {
          "data": {
            "text/plain": [
              "24"
            ]
          },
          "execution_count": 56,
          "metadata": {},
          "output_type": "execute_result"
        }
      ],
      "source": [
        "len(json_obj['features'])"
      ]
    },
    {
      "cell_type": "code",
      "execution_count": null,
      "metadata": {
        "id": "inzV8a-u1Y3f"
      },
      "outputs": [],
      "source": [
        "roadtype=[]\n",
        "for i in range(len(json_obj['features'])):\n",
        "  if json_obj['features'][i]['geometry']['type']=='LineString' :\n",
        "    roadtype.append(json_obj['features'][i]['properties']['roadType'])"
      ]
    },
    {
      "cell_type": "code",
      "execution_count": null,
      "metadata": {
        "colab": {
          "base_uri": "https://localhost:8080/"
        },
        "id": "CO6408ae1HKQ",
        "outputId": "6ac4cb3e-a8b8-49ae-9fc6-18d9e70fee38"
      },
      "outputs": [
        {
          "data": {
            "text/plain": [
              "[24, 24, 21, 21, 21, 21, 21, 0, 21, 21, 22, 0, 23]"
            ]
          },
          "execution_count": 59,
          "metadata": {},
          "output_type": "execute_result"
        }
      ],
      "source": [
        "roadtype"
      ]
    },
    {
      "cell_type": "code",
      "execution_count": null,
      "metadata": {
        "id": "nvUyTckuHpZR"
      },
      "outputs": [],
      "source": [
        "def roadtype():\n",
        "  roadtype_list=[]\n",
        "  for i in range(len(json_obj['features'])):\n",
        "    if json_obj['features'][i]['geometry']['type']=='LineString' :\n",
        "      roadtype_list.append(json_obj['features'][i]['properties']['roadType'])\n",
        "      #print(json_obj['features'][i]['properties']['roadType'])\n",
        "  return roadtype_list"
      ]
    },
    {
      "cell_type": "code",
      "execution_count": null,
      "metadata": {
        "colab": {
          "base_uri": "https://localhost:8080/"
        },
        "id": "wkwo51KcIR1l",
        "outputId": "ac4dd7c6-6a5c-4c2c-a9a5-1191570cb8a6"
      },
      "outputs": [
        {
          "data": {
            "text/plain": [
              "[24, 24, 21, 21, 21, 21, 21, 0, 21, 21, 22, 0, 23]"
            ]
          },
          "execution_count": 67,
          "metadata": {},
          "output_type": "execute_result"
        }
      ],
      "source": [
        "roadtype()"
      ]
    },
    {
      "cell_type": "code",
      "execution_count": null,
      "metadata": {
        "colab": {
          "base_uri": "https://localhost:8080/",
          "height": 229
        },
        "id": "NaZoJEJMFfjY",
        "outputId": "cf19776a-9af1-4ded-f3ff-db5b3226ab66"
      },
      "outputs": [
        {
          "ename": "KeyError",
          "evalue": "ignored",
          "output_type": "error",
          "traceback": [
            "\u001b[0;31m---------------------------------------------------------------------------\u001b[0m",
            "\u001b[0;31mKeyError\u001b[0m                                  Traceback (most recent call last)",
            "\u001b[0;32m<ipython-input-32-3644b4059226>\u001b[0m in \u001b[0;36m<module>\u001b[0;34m\u001b[0m\n\u001b[1;32m      1\u001b[0m \u001b[0mroadtype\u001b[0m\u001b[0;34m=\u001b[0m\u001b[0;34m[\u001b[0m\u001b[0;34m]\u001b[0m\u001b[0;34m\u001b[0m\u001b[0;34m\u001b[0m\u001b[0m\n\u001b[1;32m      2\u001b[0m \u001b[0;32mfor\u001b[0m \u001b[0mi\u001b[0m \u001b[0;32min\u001b[0m \u001b[0mrange\u001b[0m\u001b[0;34m(\u001b[0m\u001b[0;36m1\u001b[0m\u001b[0;34m,\u001b[0m\u001b[0mlen\u001b[0m\u001b[0;34m(\u001b[0m\u001b[0mjson_obj\u001b[0m\u001b[0;34m[\u001b[0m\u001b[0;34m'features'\u001b[0m\u001b[0;34m]\u001b[0m\u001b[0;34m)\u001b[0m\u001b[0;34m)\u001b[0m\u001b[0;34m:\u001b[0m\u001b[0;34m\u001b[0m\u001b[0;34m\u001b[0m\u001b[0m\n\u001b[0;32m----> 3\u001b[0;31m   \u001b[0;32mif\u001b[0m \u001b[0mjson_obj\u001b[0m\u001b[0;34m[\u001b[0m\u001b[0;34m'features'\u001b[0m\u001b[0;34m]\u001b[0m\u001b[0;34m[\u001b[0m\u001b[0mi\u001b[0m\u001b[0;34m]\u001b[0m\u001b[0;34m[\u001b[0m\u001b[0;34m'properties'\u001b[0m\u001b[0;34m]\u001b[0m\u001b[0;34m[\u001b[0m\u001b[0;34m'roadType'\u001b[0m\u001b[0;34m]\u001b[0m \u001b[0;32min\u001b[0m \u001b[0mjson_obj\u001b[0m \u001b[0;34m:\u001b[0m\u001b[0;34m\u001b[0m\u001b[0;34m\u001b[0m\u001b[0m\n\u001b[0m\u001b[1;32m      4\u001b[0m     \u001b[0mroadtype\u001b[0m\u001b[0;34m.\u001b[0m\u001b[0mappend\u001b[0m\u001b[0;34m(\u001b[0m\u001b[0mjson_obj\u001b[0m\u001b[0;34m[\u001b[0m\u001b[0;34m'features'\u001b[0m\u001b[0;34m]\u001b[0m\u001b[0;34m[\u001b[0m\u001b[0mi\u001b[0m\u001b[0;34m]\u001b[0m\u001b[0;34m[\u001b[0m\u001b[0;34m'properties'\u001b[0m\u001b[0;34m]\u001b[0m\u001b[0;34m[\u001b[0m\u001b[0;34m'roadType'\u001b[0m\u001b[0;34m]\u001b[0m\u001b[0;34m)\u001b[0m\u001b[0;34m\u001b[0m\u001b[0;34m\u001b[0m\u001b[0m\n",
            "\u001b[0;31mKeyError\u001b[0m: 'roadType'"
          ]
        }
      ],
      "source": [
        "#잘못된코드\n",
        "roadtype=[]\n",
        "for i in range(len(json_obj['features'])):\n",
        "  if json_obj['features'][i]['properties']['roadType'] in json_obj :\n",
        "    roadtype.append(json_obj['features'][i]['properties']['roadType'])\n"
      ]
    },
    {
      "cell_type": "code",
      "execution_count": null,
      "metadata": {
        "colab": {
          "base_uri": "https://localhost:8080/",
          "height": 230
        },
        "id": "EbmhlDS7sqz_",
        "outputId": "d92d6cf6-06ae-44ec-f63a-e2698d227932"
      },
      "outputs": [
        {
          "name": "stdout",
          "output_type": "stream",
          "text": [
            "ah\n"
          ]
        },
        {
          "ename": "KeyError",
          "evalue": "ignored",
          "output_type": "error",
          "traceback": [
            "\u001b[0;31m---------------------------------------------------------------------------\u001b[0m",
            "\u001b[0;31mKeyError\u001b[0m                                  Traceback (most recent call last)",
            "\u001b[0;32m<ipython-input-31-a2c39f90a51d>\u001b[0m in \u001b[0;36m<module>\u001b[0;34m\u001b[0m\n\u001b[1;32m      1\u001b[0m \u001b[0;32mif\u001b[0m \u001b[0mroadType\u001b[0m \u001b[0;32min\u001b[0m \u001b[0mjson_obj\u001b[0m\u001b[0;34m:\u001b[0m\u001b[0;34m\u001b[0m\u001b[0;34m\u001b[0m\u001b[0m\n\u001b[1;32m      2\u001b[0m   \u001b[0mprint\u001b[0m\u001b[0;34m(\u001b[0m\u001b[0;34m'ah'\u001b[0m\u001b[0;34m)\u001b[0m\u001b[0;34m\u001b[0m\u001b[0;34m\u001b[0m\u001b[0m\n\u001b[0;32m----> 3\u001b[0;31m   \u001b[0mprint\u001b[0m\u001b[0;34m(\u001b[0m\u001b[0mjson_obj\u001b[0m\u001b[0;34m[\u001b[0m\u001b[0;34m'properties'\u001b[0m\u001b[0;34m]\u001b[0m\u001b[0;34m[\u001b[0m\u001b[0;34m'roadType'\u001b[0m\u001b[0;34m]\u001b[0m\u001b[0;34m)\u001b[0m\u001b[0;34m\u001b[0m\u001b[0;34m\u001b[0m\u001b[0m\n\u001b[0m",
            "\u001b[0;31mKeyError\u001b[0m: 'properties'"
          ]
        }
      ],
      "source": [
        "if roadType in json_obj:\n",
        "  print('ah')\n",
        "  print(json_obj['feature']['properties']['roadType'])"
      ]
    },
    {
      "cell_type": "markdown",
      "metadata": {
        "id": "Q2RvZz041xI3"
      },
      "source": [
        "위경도 뽑아내기"
      ]
    },
    {
      "cell_type": "code",
      "execution_count": null,
      "metadata": {
        "colab": {
          "base_uri": "https://localhost:8080/"
        },
        "id": "PIs_ufdr1BFw",
        "outputId": "dc24bcb3-45c3-400f-8ceb-455f304d304e"
      },
      "outputs": [
        {
          "name": "stdout",
          "output_type": "stream",
          "text": [
            "[[126.94596314364489, 37.55705797877588], [126.94596314364489, 37.55705797877588], [126.94594647826169, 37.55706631084182], [126.94594092258453, 37.5570885303808], [126.94594092258453, 37.5570885303808], [126.94594092258453, 37.5570885303808], [126.94593814411803, 37.55712185978877], [126.94591869602988, 37.557313503822364], [126.94592147245562, 37.55735238823943], [126.94592424927383, 37.55737738538246], [126.94592147072883, 37.557413492245225], [126.9458742378184, 37.557943985267706], [126.94586867978644, 37.55804952845084], [126.9458103324599, 37.55873278128805], [126.9458019989441, 37.558766110596444], [126.94579366527132, 37.55880499481444], [126.94578254873618, 37.559032745909256], [126.94584087526162, 37.55908551859524], [126.94586587235517, 37.559107738681405], [126.94586031495102, 37.559191062225956], [126.94586309098418, 37.559243833916945], [126.94565477671672, 37.559241052730904], [126.94550199590753, 37.55984098023148], [126.94550199590753, 37.55984098023148], [126.94550199590753, 37.55984098023148], [126.94554365814871, 37.55986320061612], [126.94556587756058, 37.55989097556211], [126.94557143135383, 37.55993541493839], [126.94557143135383, 37.55993541493839], [126.94557143135383, 37.55993541493839], [126.94607138162313, 37.560082628997854], [126.94622969887737, 37.560140958384466], [126.946296358212, 37.56018539885528], [126.94638245927682, 37.56026316913195], [126.9466990873478, 37.5606075791987], [126.94673241662254, 37.560643686708104], [126.94724347636179, 37.56081312060549], [126.94731846866267, 37.56084367395164], [126.94762676855572, 37.561032546400675], [126.94773786679222, 37.56112975930879], [126.94789340298857, 37.561313074111716], [126.94794339536953, 37.561421395744375], [126.94798782893257, 37.56166303510767], [126.9479906049654, 37.56171580679853], [126.94799060347363, 37.561768578439626], [126.94797393526389, 37.561876898878054], [126.9478767171132, 37.56204632187896], [126.94778227829299, 37.56215186346934], [126.94778227829299, 37.56215186346934], [126.94778227829299, 37.56215186346934], [126.94784615884643, 37.56224074316713], [126.94789892961549, 37.56231851284671], [126.94801835830548, 37.562490717183415], [126.94806279602956, 37.56258515144246], [126.94808223618922, 37.5626740303441], [126.94808223618922, 37.5626740303441], [126.94808223618922, 37.5626740303441], [126.94736840176604, 37.56304897395293], [126.94736840176604, 37.56304897395293], [126.94736840176604, 37.56304897395293], [126.9472128532432, 37.563301719552264], [126.9472128532432, 37.563301719552264], [126.9472128532432, 37.563301719552264], [126.9473100651124, 37.56335449293474], [126.94738783093305, 37.56352669652479], [126.94738505262326, 37.563554471022904], [126.94649623721354, 37.56382109076003], [126.94649623721354, 37.56382109076003], [126.94649623721354, 37.56382109076003], [126.94675731557463, 37.564137725282635], [126.94687674575597, 37.56425715797793], [126.94693507267323, 37.564296043389824], [126.94693507267323, 37.564296043389824]]\n"
          ]
        },
        {
          "data": {
            "text/plain": [
              "73"
            ]
          },
          "execution_count": 28,
          "metadata": {},
          "output_type": "execute_result"
        }
      ],
      "source": [
        "coordi=[]\n",
        "json_obj['features'][i]['geometry']['coordinates']\n",
        "for i in range(len(json_obj['features'])):\n",
        "  if json_obj['features'][i]['geometry']['type']=='Point' :\n",
        "    coordi.append(json_obj['features'][i]['geometry']['coordinates'])\n",
        "  if json_obj['features'][i]['geometry']['type']=='LineString' :\n",
        "    for j in range(len(json_obj['features'][i]['geometry']['coordinates'])):\n",
        "      coordi.append(json_obj['features'][i]['geometry']['coordinates'][j])\n",
        "print(coordi)\n",
        "len(coordi)"
      ]
    },
    {
      "cell_type": "code",
      "execution_count": null,
      "metadata": {
        "colab": {
          "base_uri": "https://localhost:8080/"
        },
        "id": "-ANiWDRZ6AH-",
        "outputId": "72b7d1da-a859-47b8-fe20-c364906b04f5"
      },
      "outputs": [
        {
          "name": "stdout",
          "output_type": "stream",
          "text": [
            "[[37.55705797877588, 126.94596314364489], [37.55705797877588, 126.94596314364489], [37.55706631084182, 126.94594647826169], [37.5570885303808, 126.94594092258453], [37.5570885303808, 126.94594092258453], [37.5570885303808, 126.94594092258453], [37.55712185978877, 126.94593814411803], [37.557313503822364, 126.94591869602988], [37.55735238823943, 126.94592147245562], [37.55737738538246, 126.94592424927383], [37.557413492245225, 126.94592147072883], [37.557943985267706, 126.9458742378184], [37.55804952845084, 126.94586867978644], [37.55873278128805, 126.9458103324599], [37.558766110596444, 126.9458019989441], [37.55880499481444, 126.94579366527132], [37.559032745909256, 126.94578254873618], [37.55908551859524, 126.94584087526162], [37.559107738681405, 126.94586587235517], [37.559191062225956, 126.94586031495102], [37.559243833916945, 126.94586309098418], [37.559241052730904, 126.94565477671672], [37.55984098023148, 126.94550199590753], [37.55984098023148, 126.94550199590753], [37.55984098023148, 126.94550199590753], [37.55986320061612, 126.94554365814871], [37.55989097556211, 126.94556587756058], [37.55993541493839, 126.94557143135383], [37.55993541493839, 126.94557143135383], [37.55993541493839, 126.94557143135383], [37.560082628997854, 126.94607138162313], [37.560140958384466, 126.94622969887737], [37.56018539885528, 126.946296358212], [37.56026316913195, 126.94638245927682], [37.5606075791987, 126.9466990873478], [37.560643686708104, 126.94673241662254], [37.56081312060549, 126.94724347636179], [37.56084367395164, 126.94731846866267], [37.561032546400675, 126.94762676855572], [37.56112975930879, 126.94773786679222], [37.561313074111716, 126.94789340298857], [37.561421395744375, 126.94794339536953], [37.56166303510767, 126.94798782893257], [37.56171580679853, 126.9479906049654], [37.561768578439626, 126.94799060347363], [37.561876898878054, 126.94797393526389], [37.56204632187896, 126.9478767171132], [37.56215186346934, 126.94778227829299], [37.56215186346934, 126.94778227829299], [37.56215186346934, 126.94778227829299], [37.56224074316713, 126.94784615884643], [37.56231851284671, 126.94789892961549], [37.562490717183415, 126.94801835830548], [37.56258515144246, 126.94806279602956], [37.5626740303441, 126.94808223618922], [37.5626740303441, 126.94808223618922], [37.5626740303441, 126.94808223618922], [37.56304897395293, 126.94736840176604], [37.56304897395293, 126.94736840176604], [37.56304897395293, 126.94736840176604], [37.563301719552264, 126.9472128532432], [37.563301719552264, 126.9472128532432], [37.563301719552264, 126.9472128532432], [37.56335449293474, 126.9473100651124], [37.56352669652479, 126.94738783093305], [37.563554471022904, 126.94738505262326], [37.56382109076003, 126.94649623721354], [37.56382109076003, 126.94649623721354], [37.56382109076003, 126.94649623721354], [37.564137725282635, 126.94675731557463], [37.56425715797793, 126.94687674575597], [37.564296043389824, 126.94693507267323], [37.564296043389824, 126.94693507267323]]\n"
          ]
        },
        {
          "data": {
            "text/plain": [
              "73"
            ]
          },
          "execution_count": 33,
          "metadata": {},
          "output_type": "execute_result"
        }
      ],
      "source": [
        "#위경도 reverse=경위도\n",
        "coordi=[]\n",
        "json_obj['features'][i]['geometry']['coordinates']\n",
        "for i in range(len(json_obj['features'])):\n",
        "  reverse_coordinate=[]\n",
        "  if json_obj['features'][i]['geometry']['type']=='Point' :\n",
        "    reverse_coordinate=[json_obj['features'][i]['geometry']['coordinates'][1],json_obj['features'][i]['geometry']['coordinates'][0]]\n",
        "    coordi.append(reverse_coordinate)\n",
        "\n",
        "  if json_obj['features'][i]['geometry']['type']=='LineString' :\n",
        "    for j in range(len(json_obj['features'][i]['geometry']['coordinates'])):\n",
        "      reverse_coordinate=[json_obj['features'][i]['geometry']['coordinates'][j][1],json_obj['features'][i]['geometry']['coordinates'][j][0]]\n",
        "      coordi.append(reverse_coordinate)\n",
        "print(coordi)\n",
        "len(coordi)"
      ]
    },
    {
      "cell_type": "code",
      "execution_count": null,
      "metadata": {
        "colab": {
          "base_uri": "https://localhost:8080/"
        },
        "id": "RyQR3TUS4Uiz",
        "outputId": "216d34d9-f99b-4d01-ad20-957ef50ce250"
      },
      "outputs": [
        {
          "data": {
            "text/plain": [
              "[[37.55705797877588, 126.94596314364489],\n",
              " [37.55705797877588, 126.94596314364489],\n",
              " [37.55706631084182, 126.94594647826169],\n",
              " [37.5570885303808, 126.94594092258453],\n",
              " [37.5570885303808, 126.94594092258453],\n",
              " [37.5570885303808, 126.94594092258453],\n",
              " [37.55712185978877, 126.94593814411803],\n",
              " [37.557313503822364, 126.94591869602988],\n",
              " [37.55735238823943, 126.94592147245562],\n",
              " [37.55737738538246, 126.94592424927383],\n",
              " [37.557413492245225, 126.94592147072883],\n",
              " [37.557943985267706, 126.9458742378184],\n",
              " [37.55804952845084, 126.94586867978644],\n",
              " [37.55873278128805, 126.9458103324599],\n",
              " [37.558766110596444, 126.9458019989441],\n",
              " [37.55880499481444, 126.94579366527132],\n",
              " [37.559032745909256, 126.94578254873618],\n",
              " [37.55908551859524, 126.94584087526162],\n",
              " [37.559107738681405, 126.94586587235517],\n",
              " [37.559191062225956, 126.94586031495102],\n",
              " [37.559243833916945, 126.94586309098418],\n",
              " [37.559241052730904, 126.94565477671672],\n",
              " [37.55984098023148, 126.94550199590753],\n",
              " [37.55984098023148, 126.94550199590753],\n",
              " [37.55984098023148, 126.94550199590753],\n",
              " [37.55986320061612, 126.94554365814871],\n",
              " [37.55989097556211, 126.94556587756058],\n",
              " [37.55993541493839, 126.94557143135383],\n",
              " [37.55993541493839, 126.94557143135383],\n",
              " [37.55993541493839, 126.94557143135383],\n",
              " [37.560082628997854, 126.94607138162313],\n",
              " [37.560140958384466, 126.94622969887737],\n",
              " [37.56018539885528, 126.946296358212],\n",
              " [37.56026316913195, 126.94638245927682],\n",
              " [37.5606075791987, 126.9466990873478],\n",
              " [37.560643686708104, 126.94673241662254],\n",
              " [37.56081312060549, 126.94724347636179],\n",
              " [37.56084367395164, 126.94731846866267],\n",
              " [37.561032546400675, 126.94762676855572],\n",
              " [37.56112975930879, 126.94773786679222],\n",
              " [37.561313074111716, 126.94789340298857],\n",
              " [37.561421395744375, 126.94794339536953],\n",
              " [37.56166303510767, 126.94798782893257],\n",
              " [37.56171580679853, 126.9479906049654],\n",
              " [37.561768578439626, 126.94799060347363],\n",
              " [37.561876898878054, 126.94797393526389],\n",
              " [37.56204632187896, 126.9478767171132],\n",
              " [37.56215186346934, 126.94778227829299],\n",
              " [37.56215186346934, 126.94778227829299],\n",
              " [37.56215186346934, 126.94778227829299],\n",
              " [37.56224074316713, 126.94784615884643],\n",
              " [37.56231851284671, 126.94789892961549],\n",
              " [37.562490717183415, 126.94801835830548],\n",
              " [37.56258515144246, 126.94806279602956],\n",
              " [37.5626740303441, 126.94808223618922],\n",
              " [37.5626740303441, 126.94808223618922],\n",
              " [37.5626740303441, 126.94808223618922],\n",
              " [37.56304897395293, 126.94736840176604],\n",
              " [37.56304897395293, 126.94736840176604],\n",
              " [37.56304897395293, 126.94736840176604],\n",
              " [37.563301719552264, 126.9472128532432],\n",
              " [37.563301719552264, 126.9472128532432],\n",
              " [37.563301719552264, 126.9472128532432],\n",
              " [37.56335449293474, 126.9473100651124],\n",
              " [37.56352669652479, 126.94738783093305],\n",
              " [37.563554471022904, 126.94738505262326],\n",
              " [37.56382109076003, 126.94649623721354],\n",
              " [37.56382109076003, 126.94649623721354],\n",
              " [37.56382109076003, 126.94649623721354],\n",
              " [37.564137725282635, 126.94675731557463],\n",
              " [37.56425715797793, 126.94687674575597],\n",
              " [37.564296043389824, 126.94693507267323],\n",
              " [37.564296043389824, 126.94693507267323]]"
            ]
          },
          "execution_count": 31,
          "metadata": {},
          "output_type": "execute_result"
        }
      ],
      "source": [
        "coordi"
      ]
    },
    {
      "cell_type": "code",
      "execution_count": null,
      "metadata": {
        "colab": {
          "base_uri": "https://localhost:8080/"
        },
        "id": "NKXm9hcN8tdn",
        "outputId": "e52a6c30-f577-4b94-a5e7-39632181a5b2"
      },
      "outputs": [
        {
          "data": {
            "text/plain": [
              "1064"
            ]
          },
          "execution_count": 41,
          "metadata": {},
          "output_type": "execute_result"
        }
      ],
      "source": [
        "json_obj['features'][0]['properties']['totalDistance']\n"
      ]
    },
    {
      "cell_type": "code",
      "execution_count": null,
      "metadata": {
        "colab": {
          "base_uri": "https://localhost:8080/"
        },
        "id": "dlj2Y9aY-Onz",
        "outputId": "752f6e98-ebb2-4118-a667-1f3960b352d3"
      },
      "outputs": [
        {
          "name": "stdout",
          "output_type": "stream",
          "text": [
            "------------------------------------------\n",
            " 전체 거리 : 1.064 [km]\n",
            " 전체 소요 시간 : 14 [min]\n"
          ]
        }
      ],
      "source": [
        "print(\n",
        "    \n",
        "    '------------------------------------------\\n',\n",
        "    # 전체 거리 출력\n",
        "    \"전체 거리 : \" + str(round(int(json_obj['features'][0]['properties']['totalDistance']) / 1000, 3)) + ' [km]\\n',\n",
        "\n",
        "    # 전체 소요 시간 출력\n",
        "    \"전체 소요 시간 : \" + str(round(int(json_obj['features'][0]['properties']['totalTime']) / 60)) + ' [min]')"
      ]
    },
    {
      "cell_type": "code",
      "execution_count": null,
      "metadata": {
        "colab": {
          "base_uri": "https://localhost:8080/",
          "height": 248
        },
        "id": "1L9PBNGM-3Ku",
        "outputId": "99ec43fd-93f5-4b76-95a4-d34dfdf5fe2f"
      },
      "outputs": [
        {
          "ename": "KeyError",
          "evalue": "ignored",
          "output_type": "error",
          "traceback": [
            "\u001b[0;31m---------------------------------------------------------------------------\u001b[0m",
            "\u001b[0;31mKeyError\u001b[0m                                  Traceback (most recent call last)",
            "\u001b[0;32m<ipython-input-42-60af965b8c7d>\u001b[0m in \u001b[0;36m<module>\u001b[0;34m\u001b[0m\n\u001b[1;32m     10\u001b[0m \u001b[0;34m\u001b[0m\u001b[0m\n\u001b[1;32m     11\u001b[0m     \u001b[0;31m# 시작 시간\u001b[0m\u001b[0;34m\u001b[0m\u001b[0;34m\u001b[0m\u001b[0;34m\u001b[0m\u001b[0m\n\u001b[0;32m---> 12\u001b[0;31m     \u001b[0;34m\"시작 시간 : \"\u001b[0m \u001b[0;34m+\u001b[0m \u001b[0mstr\u001b[0m\u001b[0;34m(\u001b[0m\u001b[0mre\u001b[0m\u001b[0;34m.\u001b[0m\u001b[0msub\u001b[0m\u001b[0;34m(\u001b[0m\u001b[0;34m\"(\\d{4})(\\d{2})(\\d{2})(\\d{2})(\\d{2})(\\d{2})\"\u001b[0m\u001b[0;34m,\u001b[0m \u001b[0;34mr\"\\1.\\2.\\3. \\4:\\5:\\6\"\u001b[0m\u001b[0;34m,\u001b[0m \u001b[0mjson_obj\u001b[0m\u001b[0;34m[\u001b[0m\u001b[0;34m'features'\u001b[0m\u001b[0;34m]\u001b[0m\u001b[0;34m[\u001b[0m\u001b[0;36m0\u001b[0m\u001b[0;34m]\u001b[0m\u001b[0;34m[\u001b[0m\u001b[0;34m'properties'\u001b[0m\u001b[0;34m]\u001b[0m\u001b[0;34m[\u001b[0m\u001b[0;34m'arriveTime'\u001b[0m\u001b[0;34m]\u001b[0m\u001b[0;34m)\u001b[0m\u001b[0;34m)\u001b[0m\u001b[0;34m,\u001b[0m\u001b[0;34m\u001b[0m\u001b[0;34m\u001b[0m\u001b[0m\n\u001b[0m\u001b[1;32m     13\u001b[0m     \u001b[0;34m\"\"\u001b[0m\u001b[0;34m,\u001b[0m\u001b[0;34m\u001b[0m\u001b[0;34m\u001b[0m\u001b[0m\n\u001b[1;32m     14\u001b[0m \u001b[0;34m\u001b[0m\u001b[0m\n",
            "\u001b[0;31mKeyError\u001b[0m: 'arriveTime'"
          ]
        }
      ],
      "source": [
        "# print(\n",
        "    \n",
        "#     '------------------------------------------',\n",
        "#     # 전체 거리 출력\n",
        "#     \"전체 거리 : \" + str(round(int(json_obj['features'][0]['properties']['totalDistance']) / 100, 2)) + ' [km]',\n",
        "\n",
        "#     # 전체 소요 시간 출력\n",
        "#     \"전체 소요 시간 : \" + str(round(int(json_obj['features'][0]['properties']['totalTime']) / 60)) + ' [min]',\n",
        "#     '------------------------------------------\\n',\n",
        "\n",
        "#     # 시작 시간\n",
        "#     \"시작 시간 : \" + str(re.sub(\"(\\d{4})(\\d{2})(\\d{2})(\\d{2})(\\d{2})(\\d{2})\", r\"\\1.\\2.\\3. \\4:\\5:\\6\", json_obj['features'][0]['properties']['arriveTime'])),\n",
        "#     \"\",\n",
        "\n",
        "#     # 도착 시간\n",
        "#     str(json_obj['features'][1]['properties']['viaPointId']) + \" : \" + str(json_obj['features'][1]['properties']['viaDetailAddress']),\n",
        "#     \"도착 시간 : \" + str(re.sub(\"(\\d{4})(\\d{2})(\\d{2})(\\d{2})(\\d{2})(\\d{2})\", r\"\\1.\\2.\\3. \\4:\\5:\\6\", json_obj['features'][2]['properties']['arriveTime'])),\n",
        "#     \"\",\n",
        "\n",
        "#     # 도착 시간\n",
        "#     str(json_obj['features'][3]['properties']['viaPointId']) + \" : \" + str(json_obj['features'][3]['properties']['viaDetailAddress']),\n",
        "#     \"도착 시간 : \" + str(re.sub(\"(\\d{4})(\\d{2})(\\d{2})(\\d{2})(\\d{2})(\\d{2})\", r\"\\1.\\2.\\3. \\4:\\5:\\6\", json_obj['features'][3]['properties']['arriveTime'])),\n",
        "#     \"\",\n",
        "\n",
        "#     # 완료 시간\n",
        "#     \"완료 시간 : \" + str(re.sub(\"(\\d{4})(\\d{2})(\\d{2})(\\d{2})(\\d{2})(\\d{2})\", r\"\\1.\\2.\\3. \\4:\\5:\\6\", json_obj['features'][5]['properties']['completeTime'])),\n",
        "\n",
        "#     sep=\"\\n\" \n",
        "# )"
      ]
    },
    {
      "cell_type": "code",
      "execution_count": null,
      "metadata": {
        "id": "xcS8ewL3GkBo"
      },
      "outputs": [],
      "source": []
    }
  ],
  "metadata": {
    "colab": {
      "provenance": []
    },
    "kernelspec": {
      "display_name": "Python 3",
      "name": "python3"
    },
    "language_info": {
      "name": "python"
    }
  },
  "nbformat": 4,
  "nbformat_minor": 0
}
